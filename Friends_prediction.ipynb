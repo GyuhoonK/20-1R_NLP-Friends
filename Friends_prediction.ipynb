{
  "nbformat": 4,
  "nbformat_minor": 0,
  "metadata": {
    "colab": {
      "name": "Friends_prediction.ipynb",
      "provenance": [],
      "collapsed_sections": [],
      "authorship_tag": "ABX9TyNF/MlSUM8DN6IsbMeqResh",
      "include_colab_link": true
    },
    "kernelspec": {
      "name": "python3",
      "display_name": "Python 3"
    },
    "accelerator": "TPU",
    "widgets": {
      "application/vnd.jupyter.widget-state+json": {
        "3b5a6f0378234cc1a656fdf0b00cea74": {
          "model_module": "@jupyter-widgets/controls",
          "model_name": "HBoxModel",
          "state": {
            "_view_name": "HBoxView",
            "_dom_classes": [],
            "_model_name": "HBoxModel",
            "_view_module": "@jupyter-widgets/controls",
            "_model_module_version": "1.5.0",
            "_view_count": null,
            "_view_module_version": "1.5.0",
            "box_style": "",
            "layout": "IPY_MODEL_f66b7e09c6da469eb1c24902bf639265",
            "_model_module": "@jupyter-widgets/controls",
            "children": [
              "IPY_MODEL_62d32c5d9ff046eb8e1246b859549687",
              "IPY_MODEL_994d062bcf8149f39f717eedad04e655"
            ]
          }
        },
        "f66b7e09c6da469eb1c24902bf639265": {
          "model_module": "@jupyter-widgets/base",
          "model_name": "LayoutModel",
          "state": {
            "_view_name": "LayoutView",
            "grid_template_rows": null,
            "right": null,
            "justify_content": null,
            "_view_module": "@jupyter-widgets/base",
            "overflow": null,
            "_model_module_version": "1.2.0",
            "_view_count": null,
            "flex_flow": null,
            "width": null,
            "min_width": null,
            "border": null,
            "align_items": null,
            "bottom": null,
            "_model_module": "@jupyter-widgets/base",
            "top": null,
            "grid_column": null,
            "overflow_y": null,
            "overflow_x": null,
            "grid_auto_flow": null,
            "grid_area": null,
            "grid_template_columns": null,
            "flex": null,
            "_model_name": "LayoutModel",
            "justify_items": null,
            "grid_row": null,
            "max_height": null,
            "align_content": null,
            "visibility": null,
            "align_self": null,
            "height": null,
            "min_height": null,
            "padding": null,
            "grid_auto_rows": null,
            "grid_gap": null,
            "max_width": null,
            "order": null,
            "_view_module_version": "1.2.0",
            "grid_template_areas": null,
            "object_position": null,
            "object_fit": null,
            "grid_auto_columns": null,
            "margin": null,
            "display": null,
            "left": null
          }
        },
        "62d32c5d9ff046eb8e1246b859549687": {
          "model_module": "@jupyter-widgets/controls",
          "model_name": "FloatProgressModel",
          "state": {
            "_view_name": "ProgressView",
            "style": "IPY_MODEL_b65f186ff1244f1a88b7a6b0ec64a643",
            "_dom_classes": [],
            "description": "Downloading: 100%",
            "_model_name": "FloatProgressModel",
            "bar_style": "success",
            "max": 231508,
            "_view_module": "@jupyter-widgets/controls",
            "_model_module_version": "1.5.0",
            "value": 231508,
            "_view_count": null,
            "_view_module_version": "1.5.0",
            "orientation": "horizontal",
            "min": 0,
            "description_tooltip": null,
            "_model_module": "@jupyter-widgets/controls",
            "layout": "IPY_MODEL_e769122f57ec42e6a20d9849bd3742fd"
          }
        },
        "994d062bcf8149f39f717eedad04e655": {
          "model_module": "@jupyter-widgets/controls",
          "model_name": "HTMLModel",
          "state": {
            "_view_name": "HTMLView",
            "style": "IPY_MODEL_1df411513c214befb31c1b6f83135b51",
            "_dom_classes": [],
            "description": "",
            "_model_name": "HTMLModel",
            "placeholder": "​",
            "_view_module": "@jupyter-widgets/controls",
            "_model_module_version": "1.5.0",
            "value": " 232k/232k [00:00&lt;00:00, 1.57MB/s]",
            "_view_count": null,
            "_view_module_version": "1.5.0",
            "description_tooltip": null,
            "_model_module": "@jupyter-widgets/controls",
            "layout": "IPY_MODEL_0b25bf2c5b2b48ae8dbb5847d2712184"
          }
        },
        "b65f186ff1244f1a88b7a6b0ec64a643": {
          "model_module": "@jupyter-widgets/controls",
          "model_name": "ProgressStyleModel",
          "state": {
            "_view_name": "StyleView",
            "_model_name": "ProgressStyleModel",
            "description_width": "initial",
            "_view_module": "@jupyter-widgets/base",
            "_model_module_version": "1.5.0",
            "_view_count": null,
            "_view_module_version": "1.2.0",
            "bar_color": null,
            "_model_module": "@jupyter-widgets/controls"
          }
        },
        "e769122f57ec42e6a20d9849bd3742fd": {
          "model_module": "@jupyter-widgets/base",
          "model_name": "LayoutModel",
          "state": {
            "_view_name": "LayoutView",
            "grid_template_rows": null,
            "right": null,
            "justify_content": null,
            "_view_module": "@jupyter-widgets/base",
            "overflow": null,
            "_model_module_version": "1.2.0",
            "_view_count": null,
            "flex_flow": null,
            "width": null,
            "min_width": null,
            "border": null,
            "align_items": null,
            "bottom": null,
            "_model_module": "@jupyter-widgets/base",
            "top": null,
            "grid_column": null,
            "overflow_y": null,
            "overflow_x": null,
            "grid_auto_flow": null,
            "grid_area": null,
            "grid_template_columns": null,
            "flex": null,
            "_model_name": "LayoutModel",
            "justify_items": null,
            "grid_row": null,
            "max_height": null,
            "align_content": null,
            "visibility": null,
            "align_self": null,
            "height": null,
            "min_height": null,
            "padding": null,
            "grid_auto_rows": null,
            "grid_gap": null,
            "max_width": null,
            "order": null,
            "_view_module_version": "1.2.0",
            "grid_template_areas": null,
            "object_position": null,
            "object_fit": null,
            "grid_auto_columns": null,
            "margin": null,
            "display": null,
            "left": null
          }
        },
        "1df411513c214befb31c1b6f83135b51": {
          "model_module": "@jupyter-widgets/controls",
          "model_name": "DescriptionStyleModel",
          "state": {
            "_view_name": "StyleView",
            "_model_name": "DescriptionStyleModel",
            "description_width": "",
            "_view_module": "@jupyter-widgets/base",
            "_model_module_version": "1.5.0",
            "_view_count": null,
            "_view_module_version": "1.2.0",
            "_model_module": "@jupyter-widgets/controls"
          }
        },
        "0b25bf2c5b2b48ae8dbb5847d2712184": {
          "model_module": "@jupyter-widgets/base",
          "model_name": "LayoutModel",
          "state": {
            "_view_name": "LayoutView",
            "grid_template_rows": null,
            "right": null,
            "justify_content": null,
            "_view_module": "@jupyter-widgets/base",
            "overflow": null,
            "_model_module_version": "1.2.0",
            "_view_count": null,
            "flex_flow": null,
            "width": null,
            "min_width": null,
            "border": null,
            "align_items": null,
            "bottom": null,
            "_model_module": "@jupyter-widgets/base",
            "top": null,
            "grid_column": null,
            "overflow_y": null,
            "overflow_x": null,
            "grid_auto_flow": null,
            "grid_area": null,
            "grid_template_columns": null,
            "flex": null,
            "_model_name": "LayoutModel",
            "justify_items": null,
            "grid_row": null,
            "max_height": null,
            "align_content": null,
            "visibility": null,
            "align_self": null,
            "height": null,
            "min_height": null,
            "padding": null,
            "grid_auto_rows": null,
            "grid_gap": null,
            "max_width": null,
            "order": null,
            "_view_module_version": "1.2.0",
            "grid_template_areas": null,
            "object_position": null,
            "object_fit": null,
            "grid_auto_columns": null,
            "margin": null,
            "display": null,
            "left": null
          }
        }
      }
    }
  },
  "cells": [
    {
      "cell_type": "markdown",
      "metadata": {
        "id": "view-in-github",
        "colab_type": "text"
      },
      "source": [
        "<a href=\"https://colab.research.google.com/github/GyuhoonK/NLP-Friends/blob/master/Friends_prediction.ipynb\" target=\"_parent\"><img src=\"https://colab.research.google.com/assets/colab-badge.svg\" alt=\"Open In Colab\"/></a>"
      ]
    },
    {
      "cell_type": "markdown",
      "metadata": {
        "id": "BIEN-VmKaYON",
        "colab_type": "text"
      },
      "source": [
        "#1. Drive Mount"
      ]
    },
    {
      "cell_type": "code",
      "metadata": {
        "id": "TQ_UNMzQQyJf",
        "colab_type": "code",
        "colab": {
          "base_uri": "https://localhost:8080/",
          "height": 127
        },
        "outputId": "5651f205-3144-4144-c9ff-1ab15a4a8a29"
      },
      "source": [
        "from google.colab import auth\n",
        "from google.colab import drive\n",
        "auth.authenticate_user()\n",
        "drive.mount('/content/gdrive')"
      ],
      "execution_count": null,
      "outputs": [
        {
          "output_type": "stream",
          "text": [
            "Go to this URL in a browser: https://accounts.google.com/o/oauth2/auth?client_id=947318989803-6bn6qk8qdgf4n4g3pfee6491hc0brc4i.apps.googleusercontent.com&redirect_uri=urn%3aietf%3awg%3aoauth%3a2.0%3aoob&response_type=code&scope=email%20https%3a%2f%2fwww.googleapis.com%2fauth%2fdocs.test%20https%3a%2f%2fwww.googleapis.com%2fauth%2fdrive%20https%3a%2f%2fwww.googleapis.com%2fauth%2fdrive.photos.readonly%20https%3a%2f%2fwww.googleapis.com%2fauth%2fpeopleapi.readonly\n",
            "\n",
            "Enter your authorization code:\n",
            "··········\n",
            "Mounted at /content/gdrive\n"
          ],
          "name": "stdout"
        }
      ]
    },
    {
      "cell_type": "markdown",
      "metadata": {
        "id": "_ckK_A3Da5rs",
        "colab_type": "text"
      },
      "source": [
        "#2. Prepare For BERT <br>\n",
        "tensorflow, trnasformers를 사용합니다.<br>\n",
        "transformers는 기본 라이브러리가 아니므로 설치를 진행합니다."
      ]
    },
    {
      "cell_type": "code",
      "metadata": {
        "id": "bFZBNFpJd1HT",
        "colab_type": "code",
        "colab": {
          "base_uri": "https://localhost:8080/",
          "height": 125
        },
        "outputId": "09e0044a-c598-40df-fffd-f06a9b5748c1"
      },
      "source": [
        "!pip install transformers --quiet\n",
        "!pip install bert-tensorflow --quiet"
      ],
      "execution_count": null,
      "outputs": [
        {
          "output_type": "stream",
          "text": [
            "\u001b[K     |████████████████████████████████| 675kB 3.4MB/s \n",
            "\u001b[K     |████████████████████████████████| 890kB 14.9MB/s \n",
            "\u001b[K     |████████████████████████████████| 3.8MB 21.6MB/s \n",
            "\u001b[K     |████████████████████████████████| 1.1MB 42.0MB/s \n",
            "\u001b[?25h  Building wheel for sacremoses (setup.py) ... \u001b[?25l\u001b[?25hdone\n",
            "\u001b[K     |████████████████████████████████| 71kB 2.3MB/s \n",
            "\u001b[?25h"
          ],
          "name": "stdout"
        }
      ]
    },
    {
      "cell_type": "code",
      "metadata": {
        "id": "FnQHlHxzLbKv",
        "colab_type": "code",
        "colab": {}
      },
      "source": [
        "#library importing\n",
        "import tensorflow as tf\n",
        "import pandas as pd\n",
        "import numpy as np\n",
        "import os\n",
        "import pickle\n",
        "import json\n",
        "import datetime\n",
        "\n",
        "from transformers import BertTokenizer\n",
        "from transformers import TFBertModel"
      ],
      "execution_count": null,
      "outputs": []
    },
    {
      "cell_type": "code",
      "metadata": {
        "id": "7JSWPC0IRtmP",
        "colab_type": "code",
        "colab": {}
      },
      "source": [
        "#Friends dataset이 지정된 기본 경로를 설정합니다\n",
        "friends_path = '/content/gdrive/My Drive/Colab Notebooks/NLP/Friends/'"
      ],
      "execution_count": null,
      "outputs": []
    },
    {
      "cell_type": "markdown",
      "metadata": {
        "id": "LWHkqVDbdp0l",
        "colab_type": "text"
      },
      "source": [
        "#3. Pipeline <br>\n",
        "emotion label을 num value로 치환하고 전처리를 시작합니다.<br>\n",
        "2개 문장을 하나의 input으로 만듭니다. <br>\n",
        "input_sentence = [1st sentence(현재 발화)] + [2nd sentence(이전 발화)]<br>\n",
        "label = [emotion of 1st sentence]<br>\n",
        "각 dialogue의 첫번째 문장은 이전 발화가 존재하지 않으므로 하나의 문장으로만 input_sentence를 구성합니다.<br>\n",
        "\n"
      ]
    },
    {
      "cell_type": "code",
      "metadata": {
        "id": "-9HD5DJ5S6qJ",
        "colab_type": "code",
        "colab": {}
      },
      "source": [
        "# make emotion classes #\n",
        "with open(friends_path + 'friends_train.json', 'rb') as f :\n",
        "  data = json.load(f)\n",
        "f.close()\n",
        "\n",
        "result = pd.DataFrame()\n",
        "for i , dia in enumerate(data):\n",
        "  tmp = pd.DataFrame.from_dict(dia)\n",
        "  tmp['dialogue'] = i\n",
        "  result = pd.concat([result, tmp])\n",
        "emot2num = {emot : i for i, emot in enumerate(result['emotion'].drop_duplicates().values)}\n",
        "emot2num"
      ],
      "execution_count": null,
      "outputs": []
    },
    {
      "cell_type": "markdown",
      "metadata": {
        "id": "cxc7iKbv-6NG",
        "colab_type": "text"
      },
      "source": [
        "make_pair 함수를 이용해 2개 문장을 하나의 input으로 만듭니다.<br>\n",
        "input = [(N)th speaker, (N)th utterance] +  [(N-1) speaker, (N-1)th utterance]<br>\n",
        "각 dialogue의 첫번째 utterance는 이전 utterance가 없으므로 하나의 utterance로만 구성됩니다."
      ]
    },
    {
      "cell_type": "code",
      "metadata": {
        "id": "AYnLM90DTehF",
        "colab_type": "code",
        "colab": {}
      },
      "source": [
        "def make_pair(file_path, emot2num):\n",
        "\n",
        "  with open(file_path, 'rb') as f:\n",
        "    data = json.load(f)\n",
        "    df = pd.DataFrame()\n",
        "    for i, dia in enumerate(data):\n",
        "      tmp = pd.DataFrame.from_dict(dia)\n",
        "      tmp['dialogue'] = i\n",
        "      df = pd.concat([df, tmp])\n",
        "  f.close()\n",
        "  df['emotion'].replace(emot2num, inplace=True)\n",
        "  for col in ['speaker','utterance','emotion'] :\n",
        "    df[col] = df[col].astype(str)\n",
        "  \n",
        "  input_pair = []\n",
        "  input_label = []\n",
        "  for i in df.dialogue.drop_duplicates().values:\n",
        "    tmp = df[df.dialogue == i]\n",
        "    tmp.reset_index(inplace=True, drop=True)\n",
        "    \n",
        "    for row in tmp.index :\n",
        "      \n",
        "      if row == 0:\n",
        "        input_pair.append([[tmp.loc[row, 'speaker'], tmp.loc[row, 'utterance']]])\n",
        "        \n",
        "      else :\n",
        "        now_ = [tmp.loc[row, 'speaker'], tmp.loc[row, 'utterance']]\n",
        "        ex_ = [tmp.loc[row-1, 'speaker'],tmp.loc[row, 'utterance']]\n",
        "        input_pair.append([now_, ex_])\n",
        "        \n",
        "      input_label.append(tmp.loc[row, 'emotion'])\n",
        "  input_label = tf.one_hot(np.array(input_label),  depth = len(emot2num))\n",
        "  return input_pair, input_label"
      ],
      "execution_count": null,
      "outputs": []
    },
    {
      "cell_type": "code",
      "metadata": {
        "id": "Htf6fCusVFFG",
        "colab_type": "code",
        "colab": {}
      },
      "source": [
        "train_input,train_label = make_pair(friends_path + 'friends_train.json', emot2num)"
      ],
      "execution_count": null,
      "outputs": []
    },
    {
      "cell_type": "markdown",
      "metadata": {
        "id": "14XVRsHW_AM8",
        "colab_type": "text"
      },
      "source": [
        "tokenizer를 이용해 token으로 만듭니다"
      ]
    },
    {
      "cell_type": "code",
      "metadata": {
        "id": "UvRbnxLDdpVO",
        "colab_type": "code",
        "colab": {
          "base_uri": "https://localhost:8080/",
          "height": 67,
          "referenced_widgets": [
            "3b5a6f0378234cc1a656fdf0b00cea74",
            "f66b7e09c6da469eb1c24902bf639265",
            "62d32c5d9ff046eb8e1246b859549687",
            "994d062bcf8149f39f717eedad04e655",
            "b65f186ff1244f1a88b7a6b0ec64a643",
            "e769122f57ec42e6a20d9849bd3742fd",
            "1df411513c214befb31c1b6f83135b51",
            "0b25bf2c5b2b48ae8dbb5847d2712184"
          ]
        },
        "outputId": "4e1ad33b-cd49-4883-8afe-81fd54661408"
      },
      "source": [
        "tokenizer = BertTokenizer.from_pretrained('bert-base-uncased',)\n",
        "\n",
        "check_len = []\n",
        "for inputs in train_input:\n",
        "  second_len = 0\n",
        "  for i, stc in enumerate(inputs):\n",
        "    sentence = ' '.join(stc)\n",
        "    if i == 1:\n",
        "      second_len = len(tokenizer.encode(sentence))\n",
        "    if i == 0:\n",
        "      first_len = len(tokenizer.encode(sentence))\n",
        "  check_len.append(second_len + first_len)"
      ],
      "execution_count": null,
      "outputs": [
        {
          "output_type": "display_data",
          "data": {
            "application/vnd.jupyter.widget-view+json": {
              "model_id": "3b5a6f0378234cc1a656fdf0b00cea74",
              "version_minor": 0,
              "version_major": 2
            },
            "text/plain": [
              "HBox(children=(FloatProgress(value=0.0, description='Downloading', max=231508.0, style=ProgressStyle(descripti…"
            ]
          },
          "metadata": {
            "tags": []
          }
        },
        {
          "output_type": "stream",
          "text": [
            "\n"
          ],
          "name": "stdout"
        }
      ]
    },
    {
      "cell_type": "markdown",
      "metadata": {
        "id": "Tpicp1diejtu",
        "colab_type": "text"
      },
      "source": [
        "이후 수행 결과 input_sentece들의 문장 길이를 확인해보았습니다.<br>\n",
        "최대 길이가 192였고, 이들을 모두 포함할 수 있도록 maximum_length를 256으로 설정합니다.<br>\n",
        "이후, 입력 문장은 tokenizer를 통해 num_vector로 반환하고, segment, mask token을 추가합니다."
      ]
    },
    {
      "cell_type": "code",
      "metadata": {
        "id": "XAqcVywlm_2l",
        "colab_type": "code",
        "colab": {
          "base_uri": "https://localhost:8080/",
          "height": 283
        },
        "outputId": "9697c2ff-8c61-41ae-8b34-1659a82beda6"
      },
      "source": [
        "import seaborn as sns\n",
        "check_len = np.array(check_len)\n",
        "sns.distplot(check_len)\n",
        "print(\"max length of input : {}\".format(np.max(check_len)))"
      ],
      "execution_count": null,
      "outputs": [
        {
          "output_type": "stream",
          "text": [
            "max length of input : 192\n"
          ],
          "name": "stdout"
        },
        {
          "output_type": "display_data",
          "data": {
            "image/png": "[encoded data removed]",
            "text/plain": [
              "<Figure size 432x288 with 1 Axes>"
            ]
          },
          "metadata": {
            "tags": [],
            "needs_background": "light"
          }
        }
      ]
    },
    {
      "cell_type": "code",
      "metadata": {
        "id": "ApD_2UgboW5Z",
        "colab_type": "code",
        "colab": {}
      },
      "source": [
        "MAX_SEQ = 256"
      ],
      "execution_count": null,
      "outputs": []
    },
    {
      "cell_type": "code",
      "metadata": {
        "id": "IwOBMnMdYOnJ",
        "colab_type": "code",
        "colab": {}
      },
      "source": [
        "def make_inputs(max_seq, inputs, tokenizer):\n",
        "  input_ids = []\n",
        "  input_masks = []\n",
        "  second_len = 0\n",
        "  for i, stc in enumerate(inputs):\n",
        "    sentence = ' '.join(stc)\n",
        "    if i == 0:\n",
        "      input_ids+= tokenizer.encode(sentence)\n",
        "      first_len = len(tokenizer.encode(stc))\n",
        "\n",
        "    if i == 1:\n",
        "      input_ids += tokenizer.encode(sentence)[1:]\n",
        "      second_len = len(tokenizer.encode(stc)[1:])\n",
        "    \n",
        "  while True :\n",
        "    if len(input_ids) <= max_seq:\n",
        "      break\n",
        "    input_ids.pop()\n",
        "\n",
        "  input_ids[-1] = 102\n",
        "  input_segments = [0] * first_len\n",
        "  input_segments += [1] * (len(input_ids) - first_len)\n",
        "\n",
        "  input_masks = [1] * len(input_ids)\n",
        "  padding = [0] * (max_seq - len(input_ids))\n",
        "  input_ids += padding\n",
        "  input_segments += padding\n",
        "  input_masks += padding\n",
        "\n",
        "  return input_ids, input_masks, input_segments"
      ],
      "execution_count": null,
      "outputs": []
    },
    {
      "cell_type": "code",
      "metadata": {
        "id": "t46tKAvpOKrn",
        "colab_type": "code",
        "colab": {}
      },
      "source": [
        "def make_inputdataset(file_path, emot2num, max_seq):\n",
        "  pair, labels = make_pair(file_path, emot2num)\n",
        "  \n",
        "  ids = []\n",
        "  masks = []\n",
        "  segments = []\n",
        "  for i in pair:\n",
        "    ids_, mask_, seg_ = make_inputs(MAX_SEQ, i, tokenizer)\n",
        "    ids.append(ids_)\n",
        "    masks.append(mask_)\n",
        "    segments.append(seg_)\n",
        "\n",
        "  return np.array(ids), np.array(masks), np.array(segments), np.array(labels)"
      ],
      "execution_count": null,
      "outputs": []
    },
    {
      "cell_type": "markdown",
      "metadata": {
        "id": "A6IVMJR6Y0at",
        "colab_type": "text"
      },
      "source": [
        "위에서 정의한 함수들을 이용해 BERT모델을 위한 input과 label을 만듭니다"
      ]
    },
    {
      "cell_type": "code",
      "metadata": {
        "id": "HmIvWvbTh3y_",
        "colab_type": "code",
        "colab": {}
      },
      "source": [
        "train_id, train_mask, train_seg, train_laebl = make_inputdataset(friends_path + 'friends_train.json', emot2num, MAX_SEQ)\n",
        "test_id, test_mask, test_seg, test_label = make_inputdataset(friends_path + 'friends_test.json', emot2num, MAX_SEQ)\n",
        "dev_id, dev_mask, dev_seg, dev_label = make_inputdataset(friends_path + 'friends_dev.json', emot2num, MAX_SEQ)"
      ],
      "execution_count": null,
      "outputs": []
    },
    {
      "cell_type": "markdown",
      "metadata": {
        "id": "XLoBNiaje9r-",
        "colab_type": "text"
      },
      "source": [
        "#4. Model Architecture<br>\n",
        "BERT 모델에 Fully Connected Layer를 쌓아서 감정 분류를 할 수 있도록 모델을 구성합니다.<br>"
      ]
    },
    {
      "cell_type": "code",
      "metadata": {
        "id": "hKjM0EI21qtM",
        "colab_type": "code",
        "colab": {}
      },
      "source": [
        "class FD(tf.keras.Model):\n",
        "  def __init__(self, DROP_OUT, LAMD, CLASS_NUM):\n",
        "    super(FD, self).__init__()\n",
        "    self.bert = TFBertModel.from_pretrained('bert-base-uncased')\n",
        "    self.dropout = tf.keras.layers.Dropout(DROP_OUT)\n",
        "    self.dense1 = tf.keras.layers.Dense(CLASS_NUM, activation='softmax',\n",
        "                                        kernel_regularizer = tf.keras.regularizers.l2(LAMD))\n",
        "    \n",
        "    \n",
        "  def call(self, inputs, training = False):\n",
        "    ids, mask, seg = inputs\n",
        "    outputs = self.bert(ids, attention_mask = mask, token_type_ids = seg, training = training)\n",
        "    seq_output, pooled_output = outputs\n",
        "    x = self.dropout(pooled_output, training = training)\n",
        "    x = self.dense1(x, training = training)\n",
        "\n",
        "    return x"
      ],
      "execution_count": null,
      "outputs": []
    },
    {
      "cell_type": "markdown",
      "metadata": {
        "id": "ZKza53fbY9Eq",
        "colab_type": "text"
      },
      "source": [
        "hyperparameter 값을 설정합니다."
      ]
    },
    {
      "cell_type": "code",
      "metadata": {
        "id": "mWq6881Bv4ET",
        "colab_type": "code",
        "colab": {}
      },
      "source": [
        "DROP_OUT = 0.1\n",
        "LAMD = 1e-4\n",
        "CLASS_NUM = 8\n",
        "\n",
        "LEARNING_RATE = 2e-5\n",
        "BATCH_SIZE = 8"
      ],
      "execution_count": null,
      "outputs": []
    },
    {
      "cell_type": "markdown",
      "metadata": {
        "id": "wMGE58jeY_zf",
        "colab_type": "text"
      },
      "source": [
        "train/dev을 나누기 위해 일단 모든 데이터셋을 합칩니다"
      ]
    },
    {
      "cell_type": "code",
      "metadata": {
        "id": "JbpRaY6-zRpY",
        "colab_type": "code",
        "colab": {}
      },
      "source": [
        "all_id = np.concatenate([train_id, test_id, dev_id])\n",
        "all_seg = np.concatenate([train_seg, test_seg, dev_seg])\n",
        "all_mask = np.concatenate([train_mask, test_mask, dev_mask])\n",
        "all_label = np.concatenate([tf.argmax(train_label, axis = -1).numpy().reshape(-1, 1),\n",
        "                            tf.argmax(test_label, axis = -1).numpy().reshape(-1, 1),\n",
        "                            tf.argmax(dev_label, axis = -1).numpy().reshape(-1, 1)])"
      ],
      "execution_count": null,
      "outputs": []
    },
    {
      "cell_type": "markdown",
      "metadata": {
        "id": "28TY8TFEfSGu",
        "colab_type": "text"
      },
      "source": [
        "training data와 valid data를 만듭니다.(90% : 10%)<br>\n",
        "label의 비율이 유지되도록 분류하였습니다(stratify)."
      ]
    },
    {
      "cell_type": "code",
      "metadata": {
        "id": "8oAqNGfW2yJo",
        "colab_type": "code",
        "colab": {}
      },
      "source": [
        "from sklearn.model_selection import train_test_split \n",
        "\n",
        "X_train = []\n",
        "X_val = []\n",
        "\n",
        "for X in [all_id, all_mask, all_seg]:\n",
        "  x_train, x_val, y_train, y_val = train_test_split(X, all_label, test_size = 0.10 , # 10%(20k) used val set\n",
        "                                                     random_state = 72, \n",
        "                                                    shuffle = True, # Shuffle all the dataset\n",
        "                                                    stratify = all_label) # Keep the ratio\n",
        "  X_train.append(x_train)\n",
        "  X_val.append(x_val)"
      ],
      "execution_count": null,
      "outputs": []
    },
    {
      "cell_type": "code",
      "metadata": {
        "id": "o-TVkblE3DSt",
        "colab_type": "code",
        "colab": {}
      },
      "source": [
        "y_train = tf.one_hot(y_train, depth= 8).numpy().reshape(-1, 8)\n",
        "y_val = tf.one_hot(y_val, depth = 8).numpy().reshape(-1, 8)"
      ],
      "execution_count": null,
      "outputs": []
    },
    {
      "cell_type": "markdown",
      "metadata": {
        "id": "ICria2iafgv-",
        "colab_type": "text"
      },
      "source": [
        "#5. Training <br>\n",
        "TPU를 이용하여 모델을 학습합니다.<br>\n"
      ]
    },
    {
      "cell_type": "markdown",
      "metadata": {
        "id": "lmCGwL8iZImN",
        "colab_type": "text"
      },
      "source": [
        "먼저 TPU를 할당받습니다"
      ]
    },
    {
      "cell_type": "code",
      "metadata": {
        "id": "NIGU8Vli3QsK",
        "colab_type": "code",
        "colab": {}
      },
      "source": [
        "### TPU setting ###\n",
        "\n",
        "try:\n",
        "    tpu = tf.distribute.cluster_resolver.TPUClusterResolver()  # TPU detection\n",
        "    print('Running on TPU ', tpu.cluster_spec().as_dict()['worker'])\n",
        "except ValueError:\n",
        "    tpu = None\n",
        "\n",
        "if tpu:\n",
        "    tf.config.experimental_connect_to_cluster(tpu)\n",
        "    tf.tpu.experimental.initialize_tpu_system(tpu)\n",
        "    strategy = tf.distribute.experimental.TPUStrategy(tpu)\n",
        "else:\n",
        "    strategy = tf.distribute.MirroredStrategy()\n",
        "\n",
        "print(\"REPLICAS: \", strategy.num_replicas_in_sync)"
      ],
      "execution_count": null,
      "outputs": []
    },
    {
      "cell_type": "markdown",
      "metadata": {
        "id": "RqqTWGUofqa1",
        "colab_type": "text"
      },
      "source": [
        "<b>Skewed Class Issues</b><br>\n",
        "emotion label은 8개이지만 8개 label이 골고루 분포되어있지 않습니다.<br>\n",
        "label의 대부분이 neutral, non-neutral입니다.<br>\n",
        "이에 대처하기 위해 loss함수로 WeightedCategoricalCrossentopy를 정의하여 사용합니다."
      ]
    },
    {
      "cell_type": "code",
      "metadata": {
        "id": "pv7LwC_j8O3G",
        "colab_type": "code",
        "colab": {}
      },
      "source": [
        "#label 비율 계산, loss 함수에 사용될 weight#\n",
        "index, counts = np.unique(all_label, return_counts=True)\n",
        "counts_ = np.min(counts) / counts\n",
        "class_weights = {i : j for i, j in zip(index, counts_)}\n",
        "pos_weights = np.array([weight for weight in class_weights.values()])"
      ],
      "execution_count": null,
      "outputs": []
    },
    {
      "cell_type": "code",
      "metadata": {
        "id": "ujulcEoP35lL",
        "colab_type": "code",
        "colab": {
          "base_uri": "https://localhost:8080/",
          "height": 287
        },
        "outputId": "676a7e0a-c09a-4c08-9779-8b7aa8f800d7"
      },
      "source": [
        "with strategy.scope():\n",
        "  model = FD(DROP_OUT, LAMD, CLASS_NUM)\n",
        "  a = tf.constant(train_id[0])[None, :]\n",
        "  b = tf.constant(train_mask[0])[None, :]\n",
        "  c = tf.constant(train_seg[0])[None, :]\n",
        "  result = model([a,b,c])\n",
        "  print(\"check model output's shape : {}\".format(result.shape))\n",
        "  model.summary()\n",
        "  optimizer = tf.keras.optimizers.Adam(learning_rate=LEARNING_RATE)\n",
        "\n",
        "  class  WeightedCategoricalCrossentropy(tf.keras.losses.CategoricalCrossentropy):\n",
        "    def __init__(self, cost_mat, name = 'weighted_categorical_crossentropy', **kwargs):\n",
        "      cost_mat = np.array(cost_mat)\n",
        "      super().__init__(name = name, **kwargs)\n",
        "      self.cost_mat = tf.keras.backend.cast_to_floatx(cost_mat)\n",
        "\n",
        "    def __call__(self, y_true, y_pred, sample_weight = None):\n",
        "      return super().__call__(y_true = y_true, y_pred = y_pred,\n",
        "                              sample_weight = get_sample_weights(y_true, y_pred, self.cost_mat), )\n",
        "    def get_config(self):\n",
        "      config = super().get_config().copy()\n",
        "      config.update({'cost_mat' : (self.cost_mat)})                          \n",
        "      return config\n",
        "\n",
        "    @classmethod \n",
        "    def from_config(cls, config):\n",
        "      return cls(**config)\n",
        "    \n",
        "    \n",
        "  def get_sample_weights(y_true, y_pred, cost_m):\n",
        "    num_classes = len(cost_m)\n",
        "    y_pred = tf.keras.backend.one_hot(tf.keras.backend.argmax(y_pred), num_classes)\n",
        "    y_true_nk1 = tf.keras.backend.expand_dims(y_true, 2)\n",
        "    y_pred_n1k = tf.keras.backend.expand_dims(y_pred, 1)\n",
        "    cost_m_1kk = tf.keras.backend.expand_dims(cost_m, 0)\n",
        "    sample_weights_nkk = cost_m_1kk * y_true_nk1 * y_pred_n1k\n",
        "    sample_weights_n = tf.keras.backend.sum(sample_weights_nkk, axis = [1, 2])\n",
        "    return sample_weights_n\n",
        "\n",
        "  tf.keras.losses.WeightedCategoricalCrossentropy = WeightedCategoricalCrossentropy\n",
        "\n",
        "  model.compile(optimizer = optimizer,\n",
        "               loss = WeightedCategoricalCrossentropy(pos_weights),\n",
        "               metrics = ['acc'])"
      ],
      "execution_count": null,
      "outputs": [
        {
          "output_type": "stream",
          "text": [
            "check model output's shape : (1, 8)\n",
            "Model: \"fd_2\"\n",
            "_________________________________________________________________\n",
            "Layer (type)                 Output Shape              Param #   \n",
            "=================================================================\n",
            "tf_bert_model_2 (TFBertModel multiple                  109482240 \n",
            "_________________________________________________________________\n",
            "dropout_113 (Dropout)        multiple                  0         \n",
            "_________________________________________________________________\n",
            "dense_2 (Dense)              multiple                  6152      \n",
            "=================================================================\n",
            "Total params: 109,488,392\n",
            "Trainable params: 109,488,392\n",
            "Non-trainable params: 0\n",
            "_________________________________________________________________\n"
          ],
          "name": "stdout"
        }
      ]
    },
    {
      "cell_type": "markdown",
      "metadata": {
        "id": "xSg6lK8uZQa8",
        "colab_type": "text"
      },
      "source": [
        "overfitting 지점 직전까지 학습된 weight를 이용하기 위해 callback을 선언합니다"
      ]
    },
    {
      "cell_type": "code",
      "metadata": {
        "id": "swcpx1-bglns",
        "colab_type": "code",
        "colab": {}
      },
      "source": [
        "cb = tf.keras.callbacks.ModelCheckpoint(friends_path + 'weighted_best_loss_.h5', \n",
        "                                               save_best_only = True,\n",
        "                                               save_weights_only = True)"
      ],
      "execution_count": null,
      "outputs": []
    },
    {
      "cell_type": "code",
      "metadata": {
        "id": "1nVvABEQ39O5",
        "colab_type": "code",
        "colab": {
          "base_uri": "https://localhost:8080/",
          "height": 197
        },
        "outputId": "e2325f6c-f1da-4302-a104-860d0f1181d3"
      },
      "source": [
        "hist = model.fit(x = X_train, y = y_train,\n",
        "                 batch_size = BATCH_SIZE,\n",
        "                 epochs = 5,\n",
        "                 validation_data = (X_val, y_val),\n",
        "                 callbacks = [cb])\n",
        "model.save_weights(friends_path + 'weighted_last_loss.h5')"
      ],
      "execution_count": null,
      "outputs": [
        {
          "output_type": "stream",
          "text": [
            "Epoch 1/5\n",
            "816/816 [==============================] - 90s 111ms/step - loss: 0.0980 - acc: 0.5586 - val_loss: 0.1070 - val_acc: 0.5810\n",
            "Epoch 2/5\n",
            "816/816 [==============================] - 80s 98ms/step - loss: 0.0979 - acc: 0.6348 - val_loss: 0.1343 - val_acc: 0.5789\n",
            "Epoch 3/5\n",
            "816/816 [==============================] - 79s 97ms/step - loss: 0.0889 - acc: 0.6892 - val_loss: 0.1342 - val_acc: 0.6099\n",
            "Epoch 4/5\n",
            "816/816 [==============================] - 78s 95ms/step - loss: 0.0756 - acc: 0.7452 - val_loss: 0.1447 - val_acc: 0.5989\n",
            "Epoch 5/5\n",
            "816/816 [==============================] - 79s 96ms/step - loss: 0.0633 - acc: 0.7919 - val_loss: 0.1688 - val_acc: 0.5624\n"
          ],
          "name": "stdout"
        }
      ]
    },
    {
      "cell_type": "markdown",
      "metadata": {
        "id": "6dznB_5JgRyw",
        "colab_type": "text"
      },
      "source": [
        "#6. Test - Kaggle Data<br>\n",
        "학습이 완료된 모델을 Kaggle dataset을 이용하여 테스트합니다.<br>"
      ]
    },
    {
      "cell_type": "code",
      "metadata": {
        "id": "Ial3xTiY_SXo",
        "colab_type": "code",
        "colab": {}
      },
      "source": [
        "kaggle_path = '/content/gdrive/My Drive/Colab Notebooks/NLP/cose461e/'\n",
        "data = pd.read_csv(kaggle_path + 'en_data.csv', encoding = 'CP949', index_col='id')\n",
        "sample = pd.read_csv(kaggle_path + 'en_sample.csv', encoding = 'CP949', index_col = 'Id')"
      ],
      "execution_count": null,
      "outputs": []
    },
    {
      "cell_type": "markdown",
      "metadata": {
        "id": "DUR6TePmZaeN",
        "colab_type": "text"
      },
      "source": [
        "label이 없는 kaggle data를 tokenize하기 위해 새로 함수를 정의합니다."
      ]
    },
    {
      "cell_type": "code",
      "metadata": {
        "id": "9o-Fmm4VFFu7",
        "colab_type": "code",
        "colab": {}
      },
      "source": [
        "def make_pair_test(df, emot2num):\n",
        "  for col in ['speaker','utterance'] :\n",
        "    df[col] = df[col].astype(str)\n",
        "  \n",
        "  input_pair = []\n",
        "  \n",
        "  for i in df.i_dialog.drop_duplicates().values:\n",
        "    tmp = df[df.i_dialog == i]\n",
        "    tmp.reset_index(inplace=True, drop=True)\n",
        "    \n",
        "    for row in tmp.index :\n",
        "      \n",
        "      if row == 0:\n",
        "        input_pair.append([[tmp.loc[row, 'speaker'], tmp.loc[row, 'utterance']]])\n",
        "        \n",
        "      else :\n",
        "        now_ = [tmp.loc[row, 'speaker'], tmp.loc[row, 'utterance']]\n",
        "        ex_ = [tmp.loc[row-1, 'speaker'],tmp.loc[row, 'utterance']]\n",
        "        input_pair.append([now_, ex_])\n",
        "  return input_pair\n",
        "\n",
        "def make_inputdataset_test(df, emot2num, max_seq):\n",
        "  pair = make_pair_test(df, emot2num)\n",
        "  \n",
        "  ids = []\n",
        "  masks = []\n",
        "  segments = []\n",
        "  for i in pair:\n",
        "    ids_, mask_, seg_ = make_inputs(MAX_SEQ, i, tokenizer)\n",
        "    ids.append(ids_)\n",
        "    masks.append(mask_)\n",
        "    segments.append(seg_)\n",
        "\n",
        "  return np.array(ids), np.array(masks), np.array(segments)\n",
        "\n",
        "kaggle_id, kaggle_mask, kaggle_seg = make_inputdataset_test(data, emot2num, MAX_SEQ)"
      ],
      "execution_count": null,
      "outputs": []
    },
    {
      "cell_type": "markdown",
      "metadata": {
        "id": "M27MmfO8ggLh",
        "colab_type": "text"
      },
      "source": [
        "val_loss가 가장 낮은 model weight를 불러와 prediction을 실행합니다"
      ]
    },
    {
      "cell_type": "code",
      "metadata": {
        "id": "3w5irwc8iyXD",
        "colab_type": "code",
        "colab": {}
      },
      "source": [
        "model.load_weights(friends_path + 'weighted_best_loss_.h5')"
      ],
      "execution_count": null,
      "outputs": []
    },
    {
      "cell_type": "code",
      "metadata": {
        "id": "19xCq9dRGZ9c",
        "colab_type": "code",
        "colab": {}
      },
      "source": [
        "pred = model.predict([kaggle_id, kaggle_mask, kaggle_seg])\n",
        "pred = np.argmax(pred, axis = 1).reshape(-1, 1)\n",
        "sample['Expected'] = pred"
      ],
      "execution_count": null,
      "outputs": []
    },
    {
      "cell_type": "code",
      "metadata": {
        "id": "S0e84_3tG6s_",
        "colab_type": "code",
        "colab": {}
      },
      "source": [
        "#submit form에 맞게 변형#\n",
        "num2emot = {i : j for i, j in zip(emot2num.values(), emot2num.keys())}\n",
        "sample['Expected'].replace(num2emot, inplace=True)\n",
        "sample.rename(columns = {'Expected' : 'Predicted'}, inplace=True)\n",
        "sample.to_csv(kaggle_path + \"submit_cose461e_{}.csv\".format(datetime.datetime.now().strftime('%Y%m%d%H%M%S')))"
      ],
      "execution_count": null,
      "outputs": []
    }
  ]
}